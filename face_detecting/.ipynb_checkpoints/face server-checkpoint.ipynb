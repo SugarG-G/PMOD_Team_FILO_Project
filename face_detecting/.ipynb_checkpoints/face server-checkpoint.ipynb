{
 "cells": [
  {
   "cell_type": "code",
   "execution_count": null,
   "metadata": {},
   "outputs": [],
   "source": [
    "import socket \n",
    "import cv2\n",
    "import numpy\n",
    "from queue import Queue\n",
    "from _thread import *\n",
    "\n",
    "enclosure_queue = Queue()\n",
    "def threaded(client_socket, addr, queue): \n",
    "    print('Connected by :', addr[0], ':', addr[1]) \n",
    "    while True: \n",
    "        try:\n",
    "            data = client_socket.recv(1024)\n",
    "            if not data: \n",
    "                print('Disconnected by ' + addr[0],':',addr[1])\n",
    "                break\n",
    "            stringData = queue.get()\n",
    "            client_socket.send(str(len(stringData)).ljust(16).encode())\n",
    "            client_socket.send(stringData)\n",
    "        except ConnectionResetError as e:\n",
    "            print('Disconnected by ' + addr[0],':',addr[1])\n",
    "            break           \n",
    "    client_socket.close() \n",
    "\n",
    "def webcam(queue):\n",
    "    capture = cv2.VideoCapture(0)\n",
    "    while True:\n",
    "        ret, frame = capture.read()\n",
    "        if ret == False:\n",
    "            continue\n",
    "        encode_param=[int(cv2.IMWRITE_JPEG_QUALITY),90]\n",
    "        result, imgencode = cv2.imencode('.jpg', frame, encode_param)\n",
    "        data = numpy.array(imgencode)\n",
    "        stringData = data.tobytes()\n",
    "        queue.put(stringData)\n",
    "        cv2.imshow('image', frame)       \n",
    "        key = cv2.waitKey(1)\n",
    "        if key == 27:\n",
    "            break\n",
    "HOST = '192.168.200.183'\n",
    "PORT = 9999\n",
    "\n",
    "server_socket = socket.socket(socket.AF_INET, socket.SOCK_STREAM) \n",
    "server_socket.setsockopt(socket.SOL_SOCKET, socket.SO_REUSEADDR, 1)\n",
    "server_socket.bind((HOST, PORT)) \n",
    "server_socket.listen() \n",
    "print('server start')\n",
    "\n",
    "start_new_thread(webcam, (enclosure_queue,))\n",
    "\n",
    "while True: \n",
    "    print('wait')\n",
    "    client_socket, addr = server_socket.accept() \n",
    "    start_new_thread(threaded, (client_socket, addr, enclosure_queue,)) \n",
    "server_socket.close() "
   ]
  }
 ],
 "metadata": {
  "kernelspec": {
   "display_name": "Python 3",
   "language": "python",
   "name": "python3"
  },
  "language_info": {
   "codemirror_mode": {
    "name": "ipython",
    "version": 3
   },
   "file_extension": ".py",
   "mimetype": "text/x-python",
   "name": "python",
   "nbconvert_exporter": "python",
   "pygments_lexer": "ipython3",
   "version": "3.6.10"
  }
 },
 "nbformat": 4,
 "nbformat_minor": 4
}
